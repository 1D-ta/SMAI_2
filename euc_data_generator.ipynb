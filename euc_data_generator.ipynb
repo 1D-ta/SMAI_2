{
 "cells": [
  {
   "cell_type": "code",
   "execution_count": 1,
   "metadata": {},
   "outputs": [],
   "source": [
    "import random\n",
    "import math\n",
    "\n",
    "def generate_euclidean_tsp_data(num_cities):\n",
    "    cities = []\n",
    "    for _ in range(num_cities):\n",
    "        x = random.uniform(0, 100)  # Adjust range as needed\n",
    "        y = random.uniform(0, 100)\n",
    "        cities.append((x, y))\n",
    "\n",
    "    # Calculate distance matrix\n",
    "    distance_matrix = []\n",
    "    for city1 in cities:\n",
    "        row = []\n",
    "        for city2 in cities:\n",
    "            # Calculate the squared differences correctly\n",
    "            distance = math.sqrt((city1[0] - city2[0])**2 + (city1[1] - city2[1])**2)\n",
    "            row.append(distance)\n",
    "        distance_matrix.append(row)\n",
    "\n",
    "    return cities, distance_matrix\n",
    "\n",
    "# Generate data for 300 cities\n",
    "cities, distance_matrix = generate_euclidean_tsp_data(10)\n",
    "\n",
    "# Write data to a file\n",
    "with open(\"euclidean_tsp_10.txt\", \"w\") as f:\n",
    "    f.write(\"EUCLIDEAN\\n\")\n",
    "    f.write(\"10\\n\")\n",
    "    for city in cities:\n",
    "        f.write(f\"{city[0]} {city[1]}\\n\")\n",
    "    for row in distance_matrix:\n",
    "        f.write(\" \".join(map(str, row)) + \"\\n\")"
   ]
  }
 ],
 "metadata": {
  "kernelspec": {
   "display_name": "base",
   "language": "python",
   "name": "python3"
  },
  "language_info": {
   "codemirror_mode": {
    "name": "ipython",
    "version": 3
   },
   "file_extension": ".py",
   "mimetype": "text/x-python",
   "name": "python",
   "nbconvert_exporter": "python",
   "pygments_lexer": "ipython3",
   "version": "3.11.5"
  }
 },
 "nbformat": 4,
 "nbformat_minor": 2
}
